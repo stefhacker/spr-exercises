{
 "cells": [
  {
   "cell_type": "markdown",
   "metadata": {},
   "source": [
    "# Statistical Pattern Recognition - Solution 2: Parametric distributions"
   ]
  },
  {
   "cell_type": "code",
   "execution_count": null,
   "metadata": {
    "id": "h0FrAGlmstnq"
   },
   "outputs": [],
   "source": [
    "%matplotlib inline\n",
    "import numpy as np\n",
    "import matplotlib.pyplot as plt\n",
    "from matplotlib.patches import Ellipse\n",
    "from matplotlib import markers\n"
   ]
  },
  {
   "cell_type": "markdown",
   "metadata": {},
   "source": [
    "## $\\star$ Part 1: Pen and Paper exercise\n",
    "\n",
    "Verify the ML estimator for the Bernoulli distribution given in the lecture slides."
   ]
  },
  {
   "cell_type": "markdown",
   "metadata": {
    "id": "_n1dUCDbcPR0"
   },
   "source": [
    "## $\\star$ Part 2: ML estimation\n",
    "\n",
    "Estimate the mean and covariance matrix of the dataset *gaussian.npz* via ML\n",
    "estimation.\n",
    "\n",
    "Plot the points and indicate the mean via a cross and the covariance via an\n",
    "ellipse. \n",
    "\n",
    "Consult the matplotlib documentation to see how to draw an ellipse. \n",
    "(https://matplotlib.org/3.1.1/api/_as_gen/matplotlib.patches.Ellipse.html)\n",
    "\n",
    "\n",
    "You obtain the ellipse axes by an eigen-decomposition of the matrix (Numpy function linalg.eig). \n",
    "\n",
    "The scaling of the axes is given by the eigenvalues.\n",
    "Review the concept of an eigen-decomposition in the\n",
    "internet or a math book if you lack this basic math knowledge."
   ]
  },
  {
   "cell_type": "markdown",
   "metadata": {
    "id": "YPFPSH6JePII"
   },
   "source": [
    "### Part 2.1: Mean and Covariance estimation\n",
    "\n",
    "Estimate the mean and covariance matrix of the dataset, you can compare these to the built in numpy functions and see if you see a difference.\n"
   ]
  },
  {
   "cell_type": "code",
   "execution_count": null,
   "metadata": {
    "colab": {
     "base_uri": "https://localhost:8080/",
     "height": 282
    },
    "id": "2-Kd1wtAs6rH",
    "outputId": "f125e939-6c10-4602-ec59-a4592c517263"
   },
   "outputs": [],
   "source": [
    "# Load the data\n",
    "\n",
    "# START TODO #################\n",
    "raise NotImplementedError\n",
    "# END TODO #################\n"
   ]
  },
  {
   "cell_type": "code",
   "execution_count": null,
   "metadata": {},
   "outputs": [],
   "source": [
    "# Estimate the mean and compare your result with numpy's built-in function\n",
    "\n",
    "# START TODO #################\n",
    "raise NotImplementedError\n",
    "# END TODO #################\n"
   ]
  },
  {
   "cell_type": "code",
   "execution_count": null,
   "metadata": {
    "colab": {
     "base_uri": "https://localhost:8080/"
    },
    "id": "BbU1q1hctf5i",
    "outputId": "577ed6b0-1a43-45b6-ca47-05eba919ff2b"
   },
   "outputs": [],
   "source": [
    "\n",
    "# Estimate the covariance and compare your result with numpy's built-in function\n",
    "\n",
    "# START TODO #################\n",
    "raise NotImplementedError\n",
    "# END TODO #################\n"
   ]
  },
  {
   "cell_type": "markdown",
   "metadata": {
    "id": "0j06--zaevaY"
   },
   "source": [
    "### Part 2.2: Plotting the graph\n",
    "\n",
    "Plot the points and indicate the mean via a cross and the covariance via an ellipse.\n"
   ]
  },
  {
   "cell_type": "code",
   "execution_count": null,
   "metadata": {
    "colab": {
     "base_uri": "https://localhost:8080/",
     "height": 282
    },
    "id": "yCPqovRet3hQ",
    "outputId": "b861ecfb-00d2-4c15-a733-f3832e531678"
   },
   "outputs": [],
   "source": [
    "# START TODO #################\n",
    "raise NotImplementedError\n",
    "# END TODO #################\n"
   ]
  },
  {
   "cell_type": "markdown",
   "metadata": {
    "id": "WEGDRJXMfnAM"
   },
   "source": [
    "## $\\star\\star$ Part 3: MAP estimation\n",
    "\n",
    "Create reduced datasets by considering only the first 2, 5, 10 points and estimate the mean via MAP. \n",
    "\n",
    "Use the ML estimate of the covariance $ \\Sigma $ <sub>**ML,100**</sub> (estimated from all 100 points) as known covariance. \n",
    "\n",
    "Assume the conjugate prior with $\\mu_0 = (2,3)^T $ and covariance $\\Sigma_0 =\\Sigma $ <sub>**ML,100**</sub>\n",
    "\n",
    "\n",
    "Draw the ML and the MAP estimates into the point clouds (the covariance is the same as it is assumed to be known here). \n",
    "\n",
    "How reliable is the ML estimate when there are only few measurements? \n",
    "\n",
    "Now work with a slightly wrong prior $\\mu_0 = (2,5)^T $\n",
    "and see how the effect of the prior is reduced as more measurements come in.\n"
   ]
  },
  {
   "cell_type": "markdown",
   "metadata": {
    "id": "CVwvFvWAlLcR"
   },
   "source": [
    "### Part 3.1: Using the correct prior\n",
    "\n",
    "Using   $\\mu_0 = (2,3)^T $\n",
    "\n",
    "For the formulae for the multivariate Gaussian MAP estimate given mean prior, covariance prior and true covariance see:\n",
    "\n",
    "[0] [https://www.cs.ubc.ca/~murphyk/Papers/bayesGauss.pdf](https://www.cs.ubc.ca/~murphyk/Papers/bayesGauss.pdf) page 17 equation (211)\n",
    "\n",
    "[1] [https://www.cs.ubc.ca/~murphyk/Papers/bayesGauss.pdf](https://www.cs.ubc.ca/~murphyk/Papers/bayesGauss.pdf) Page 17 equation(212)\n",
    "\n",
    "For details see Christopher M. Bishop, Pattern Recognition and Machine Learning, p. 92.\n"
   ]
  },
  {
   "cell_type": "code",
   "execution_count": null,
   "metadata": {
    "id": "08pKJwgrZ1Gn"
   },
   "outputs": [],
   "source": [
    "# Estimate the ML and MAP mean\n",
    "\n",
    "# START TODO #################\n",
    "raise NotImplementedError\n",
    "# END TODO #################\n"
   ]
  },
  {
   "cell_type": "code",
   "execution_count": null,
   "metadata": {
    "colab": {
     "base_uri": "https://localhost:8080/",
     "height": 435
    },
    "id": "I-NXVPYiadXY",
    "outputId": "2e3295d9-e028-4c88-e96e-090044fad886",
    "scrolled": false
   },
   "outputs": [],
   "source": [
    "# Plot the datapoints and the ML and MAP mean estimates for different numbers of samples\n",
    "\n",
    "# START TODO #################\n",
    "raise NotImplementedError\n",
    "# END TODO #################\n"
   ]
  },
  {
   "cell_type": "markdown",
   "metadata": {
    "id": "6hqDM0OAl_Ic"
   },
   "source": [
    "### Part 3.2: Using a slightly wrong prior\n",
    "\n",
    "Using $\\mu_0 = (2,5)^T $\n"
   ]
  },
  {
   "cell_type": "code",
   "execution_count": null,
   "metadata": {
    "colab": {
     "base_uri": "https://localhost:8080/",
     "height": 435
    },
    "id": "a_9nA5NaVL4i",
    "outputId": "c7a172cb-0442-4d4d-c21e-a1e2671c4018"
   },
   "outputs": [],
   "source": [
    "# START TODO #################\n",
    "raise NotImplementedError\n",
    "# END TODO #################\n"
   ]
  },
  {
   "cell_type": "markdown",
   "metadata": {
    "id": "zvbfBkcAm0YX"
   },
   "source": [
    "## $\\star$ Part 4: Gaussianplus\n",
    "\n",
    "Estimate mean and covariance of the dataset *gaussianplus.npz* using ML and show the result.\n",
    "How well does the estimate reflect the true data?\n"
   ]
  },
  {
   "cell_type": "code",
   "execution_count": null,
   "metadata": {
    "colab": {
     "base_uri": "https://localhost:8080/",
     "height": 401
    },
    "id": "0EnXRMhgzEpO",
    "outputId": "caa12f7c-0b3d-4fab-f136-47ac46f7bbb4"
   },
   "outputs": [],
   "source": [
    "# START TODO #################\n",
    "raise NotImplementedError\n",
    "# END TODO #################\n"
   ]
  }
 ],
 "metadata": {
  "colab": {
   "collapsed_sections": [],
   "name": "ex2.ipynb",
   "provenance": [],
   "toc_visible": true
  },
  "kernelspec": {
   "display_name": "Python 3 (ipykernel)",
   "language": "python",
   "name": "python3"
  },
  "language_info": {
   "codemirror_mode": {
    "name": "ipython",
    "version": 3
   },
   "file_extension": ".py",
   "mimetype": "text/x-python",
   "name": "python",
   "nbconvert_exporter": "python",
   "pygments_lexer": "ipython3",
   "version": "3.10.13"
  }
 },
 "nbformat": 4,
 "nbformat_minor": 1
}