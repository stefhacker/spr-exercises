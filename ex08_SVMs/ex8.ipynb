{
 "cells": [
  {
   "cell_type": "markdown",
   "metadata": {
    "colab": {
     "base_uri": "https://localhost:8080/"
    },
    "id": "7iahsCqEq_t8",
    "outputId": "4fa44f68-58ed-4d3c-a013-1cdf61efd213"
   },
   "source": [
    "# Statistical Pattern Recognition - Solution 8:  Support Vector Machines"
   ]
  },
  {
   "cell_type": "code",
   "execution_count": null,
   "metadata": {
    "id": "H2shPbB6qyWk"
   },
   "outputs": [],
   "source": [
    "import numpy as np\n",
    "import matplotlib.pyplot as plt\n",
    "from matplotlib.colors import ListedColormap\n",
    "from sklearn.model_selection import train_test_split\n",
    "from libsvm.svmutil import svm_problem, svm_parameter, svm_train, svm_predict\n"
   ]
  },
  {
   "cell_type": "markdown",
   "metadata": {},
   "source": [
    "## $\\star$ Part 1: libsvm\n",
    "In this exercise, we will use the package `libsvm-official`, a python interface for the `LIBSVM` library, originally written in C++/Java.\n",
    "\n",
    "#### Installation\n",
    "* If you installed all packages from the `requirements.txt` file, `libsvm-official` should already be installed. Installation and usage instructions can be found \n",
    "[here](https://github.com/cjlin1/libsvm/tree/master/python).\n",
    "* If you have problems installing it on Windows, make sure you are using python 3.8 (run `python -V`).\n",
    "\n",
    "#### Usage\n",
    "* Details on how to use the original `LIBSVM` library and its parameters can be found [here](https://github.com/cjlin1/libsvm).\n",
    "* Details on how to use the python interface can be found [here](https://github.com/cjlin1/libsvm/tree/master/python)\n",
    "* Further documentation can be found on the library's [main page](http://www.csie.ntu.edu.tw/~cjlin/libsvm/)."
   ]
  },
  {
   "cell_type": "markdown",
   "metadata": {},
   "source": [
    "### Data preparation\n",
    "1. Load the data from `dataset.npz` and, like in previous assignments,\n",
    "split it evenly into a training set and a test set.\n",
    "2. Visualize the data, you can reuse parts of exercise 4 for this."
   ]
  },
  {
   "cell_type": "code",
   "execution_count": null,
   "metadata": {
    "id": "Vom2GU4UrOs5"
   },
   "outputs": [],
   "source": [
    "# START TODO ################\n",
    "raise NotImplementedError\n",
    "# END TODO ################\n"
   ]
  },
  {
   "cell_type": "markdown",
   "metadata": {},
   "source": [
    "### Using LIBSVM\n",
    "Familiarize with the library: \n",
    "* Learn how to train SVMs using `libsvm-official`.\n",
    "* Learn how to to set options and hyper-parameters.\n",
    "* How do you deal with the multiclass case?.\n",
    "\n",
    "Implement the `libsvm_classifier` function below (hints and example at the end of the notebook):\n",
    "* Given `params`, fit an SVM to the training data.\n",
    "* Compute the predictions on the test data and print the model's test accuracy.\n",
    "* Plot the test data and mark the wrongly classified points with a black circle around them (use `plt.scatter(..., marker=\"o\", ec=\"black\", fc=\"none\", s=200)` to get black circles).\n",
    "* Plot the training data and highlight the support vectors by plotting them in a bigger size. Use `sv_indices = np.array(model.get_sv_indices()) - 1` to get the support vector indices. Note how libsvm starts counting at 1, so we need to subtract 1.\n",
    "* Show the model's decision boundaries with a contour plot as in exercise 4: Create a meshgrid for the 2 input features, reshape and stack it,\n",
    "    predict it's labels using the trained SVM model and plot the contour."
   ]
  },
  {
   "cell_type": "code",
   "execution_count": null,
   "metadata": {
    "id": "FG2lojc8rl0m"
   },
   "outputs": [],
   "source": [
    "def libsvm_classifier(data_train, data_test, params):\n",
    "    \"\"\"\n",
    "    Takes the training and test data and a specified kernel and uses a svm model\n",
    "    to get the predicted labels of the test data as well as the accuracy.\n",
    "    \"\"\"\n",
    "    print(f\"Running SVM with parameters {params}\")\n",
    "\n",
    "    # START TODO ################\n",
    "    # Train the model and predict the labels of the test data\n",
    "    raise NotImplementedError\n",
    "    # END TODO ################\n",
    "\n",
    "    # START TODO ################\n",
    "    # Visualize the model's predictions and decision boundary\n",
    "    raise NotImplementedError\n",
    "    # END TODO ################\n"
   ]
  },
  {
   "cell_type": "markdown",
   "metadata": {},
   "source": [
    "### Kernels\n",
    "Train SVMs using different kernels: start with Linear and RBF."
   ]
  },
  {
   "cell_type": "code",
   "execution_count": null,
   "metadata": {
    "colab": {
     "base_uri": "https://localhost:8080/"
    },
    "id": "znnUKOFsrmr6",
    "outputId": "8a60224b-d92f-4964-d011-709c9a50336f",
    "scrolled": false
   },
   "outputs": [],
   "source": [
    "# START TODO ################\n",
    "# Train, predict, plot\n",
    "raise NotImplementedError\n",
    "# END TODO ################\n"
   ]
  },
  {
   "cell_type": "markdown",
   "metadata": {},
   "source": [
    "### Hyper-parameters\n",
    "Pick the kernel that worked best in the runs above. Try out different hyper-parameter configurations available for that kernel and compare their results."
   ]
  },
  {
   "cell_type": "code",
   "execution_count": null,
   "metadata": {
    "scrolled": false
   },
   "outputs": [],
   "source": [
    "# START TODO ################\n",
    "raise NotImplementedError\n",
    "# END TODO ################\n"
   ]
  },
  {
   "cell_type": "markdown",
   "metadata": {},
   "source": [
    "### Margin size\n",
    "Train different SVMs using different margin sizes, from high to low.\n",
    "Which parameter can you use to achieve this, and how do you set it in `LIBSVM`?"
   ]
  },
  {
   "cell_type": "code",
   "execution_count": null,
   "metadata": {
    "scrolled": false
   },
   "outputs": [],
   "source": [
    "# START TODO ################\n",
    "raise NotImplementedError\n",
    "# END TODO ################\n"
   ]
  },
  {
   "cell_type": "markdown",
   "metadata": {},
   "source": [
    "#### Hints\n",
    "* libsvm expects the model parameters as a single string, e.g. `\"-t 2\"` for the RBF kernel and `\"-t 0\"` for the linear kernel. \n",
    "* You can use the option `-q` to toggle the quiet mode.\n",
    "\n",
    "#### Example output\n",
    "Predictions and decision boundaries:\n",
    "\n",
    "![example output](ex8_example_output.jpg)"
   ]
  },
  {
   "cell_type": "markdown",
   "metadata": {},
   "source": []
  }
 ],
 "metadata": {
  "colab": {
   "collapsed_sections": [],
   "name": "ex8.ipynb",
   "provenance": []
  },
  "kernelspec": {
   "display_name": "Python 3 (ipykernel)",
   "language": "python",
   "name": "python3"
  },
  "language_info": {
   "codemirror_mode": {
    "name": "ipython",
    "version": 3
   },
   "file_extension": ".py",
   "mimetype": "text/x-python",
   "name": "python",
   "nbconvert_exporter": "python",
   "pygments_lexer": "ipython3",
   "version": "3.10.13"
  }
 },
 "nbformat": 4,
 "nbformat_minor": 1
}
