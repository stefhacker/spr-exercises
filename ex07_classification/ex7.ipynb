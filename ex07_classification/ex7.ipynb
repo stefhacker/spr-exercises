{
 "cells": [
  {
   "cell_type": "markdown",
   "metadata": {},
   "source": [
    "# Statistical Pattern Recognition - Solution 7: Classification"
   ]
  },
  {
   "cell_type": "code",
   "execution_count": null,
   "metadata": {
    "id": "1han4RcYoGZK"
   },
   "outputs": [],
   "source": [
    "import numpy as np\n",
    "import matplotlib.pyplot as plt\n",
    "from sklearn.model_selection import train_test_split\n",
    "from scipy.stats import multivariate_normal\n",
    "from sklearn.preprocessing import OneHotEncoder\n",
    "onehot_encoder = OneHotEncoder(sparse_output=False)\n"
   ]
  },
  {
   "cell_type": "markdown",
   "metadata": {
    "id": "nlOdQz9d2zhs"
   },
   "source": [
    "## $\\star$ Part 1: Generative classifier\n",
    "\n",
    "Load the data from dataset.npz (you know this dataset already from class 4) and split it evenly into a training set and a test set. \n",
    "\n",
    "Train a generative classifier using Gaussian distributions on the training set. (Hint: This comes down to estimating the parameters of a Gaussian distribution\n",
    "for each class.) \n",
    "\n",
    "Then compute the average classification error on the test\n",
    "set. Compare it to the error you got with the nearest neighbor classifier.\n",
    "\n",
    "Visualize the training points and the classified points and mark\n",
    "misclassifications.\n"
   ]
  },
  {
   "cell_type": "code",
   "execution_count": null,
   "metadata": {
    "id": "XiSKAhvM2zo7"
   },
   "outputs": [],
   "source": [
    "# START TODO ################\n",
    "# Load and visualize data\n",
    "raise NotImplementedError\n",
    "# END TODO ################\n"
   ]
  },
  {
   "cell_type": "code",
   "execution_count": null,
   "metadata": {
    "id": "MxjPxVMlLw33"
   },
   "outputs": [],
   "source": [
    "# START TODO ################\n",
    "# Split the data evenly into train and test set\n",
    "raise NotImplementedError\n",
    "# END TODO ################\n"
   ]
  },
  {
   "cell_type": "markdown",
   "metadata": {},
   "source": [
    "### Run Generative Classifier"
   ]
  },
  {
   "cell_type": "code",
   "execution_count": null,
   "metadata": {
    "id": "5PKnCjHsM9HQ"
   },
   "outputs": [],
   "source": [
    "# START TODO ################\n",
    "# Define the generative classifier\n",
    "raise NotImplementedError\n",
    "# END TODO ################\n"
   ]
  },
  {
   "cell_type": "code",
   "execution_count": null,
   "metadata": {},
   "outputs": [],
   "source": [
    "# START TODO ################\n",
    "# Define a plot function that plots the predictions and draws a red circle\n",
    "# around misclassifications\n",
    "raise NotImplementedError\n",
    "# END TODO ################\n"
   ]
  },
  {
   "cell_type": "code",
   "execution_count": null,
   "metadata": {
    "colab": {
     "base_uri": "https://localhost:8080/"
    },
    "id": "vxbJ2onf-X-E",
    "outputId": "b3137d98-1140-423c-fc89-52c4e3486e75"
   },
   "outputs": [],
   "source": [
    "# START TODO ################\n",
    "# Run and plot the generative classifier\n",
    "raise NotImplementedError\n",
    "# END TODO ################\n"
   ]
  },
  {
   "cell_type": "code",
   "execution_count": null,
   "metadata": {
    "colab": {
     "base_uri": "https://localhost:8080/",
     "height": 282
    },
    "id": "Db5sffhT5ozB",
    "outputId": "9c867e40-f086-49dc-9c7e-66877edbf279"
   },
   "outputs": [],
   "source": [
    "# START TODO ################\n",
    "# plot true labels for comparison\n",
    "raise NotImplementedError\n",
    "# END TODO ################\n"
   ]
  },
  {
   "cell_type": "markdown",
   "metadata": {
    "id": "leR2Hbxp2zw7"
   },
   "source": [
    "## $\\star$ $\\star$ Part 2: Discriminative classifier\n",
    "\n",
    "Train a discriminative classifier via logistic regression and \n",
    "$\\phi(x) = x$\n",
    "\n",
    "For optimization use gradient descent.\n",
    "\n",
    "This corresponds to training a\n",
    "single layer neural network. \n",
    "\n",
    "The cost function is convex, so you will find\n",
    "the global optimum no matter how you initialize the weights. If your energy\n",
    "oscillates, you must reduce the step size (learning rate). \n",
    "\n",
    "Compute the average classification error and visualize the result. \n"
   ]
  },
  {
   "cell_type": "code",
   "execution_count": null,
   "metadata": {
    "id": "hAvrW233rHKv"
   },
   "outputs": [],
   "source": [
    "# START TODO ################\n",
    "# Define the optimization of logistic regression\n",
    "# Show a plot of the accuracy over optimization steps\n",
    "raise NotImplementedError\n",
    "# END TODO ################\n"
   ]
  },
  {
   "cell_type": "code",
   "execution_count": null,
   "metadata": {},
   "outputs": [],
   "source": [
    "# START TODO ################\n",
    "# Try various learning rates (\"Hyper-parameter\" search).\n",
    "# With which lr does training oscillate?\n",
    "raise NotImplementedError\n",
    "# END TODO ################\n"
   ]
  },
  {
   "cell_type": "code",
   "execution_count": null,
   "metadata": {},
   "outputs": [],
   "source": [
    "# START TODO ################\n",
    "# Run the optimization again with the best learning rate you found\n",
    "raise NotImplementedError\n",
    "# END TODO ################\n"
   ]
  },
  {
   "cell_type": "code",
   "execution_count": null,
   "metadata": {},
   "outputs": [],
   "source": [
    "# START TODO ################\n",
    "# As above, plot predictions, errors and true labels.\n",
    "raise NotImplementedError\n",
    "# END TODO ################\n"
   ]
  },
  {
   "cell_type": "code",
   "execution_count": null,
   "metadata": {},
   "outputs": [],
   "source": []
  }
 ],
 "metadata": {
  "colab": {
   "name": "ex7.ipynb",
   "provenance": []
  },
  "kernelspec": {
   "display_name": "Python 3 (ipykernel)",
   "language": "python",
   "name": "python3"
  },
  "language_info": {
   "codemirror_mode": {
    "name": "ipython",
    "version": 3
   },
   "file_extension": ".py",
   "mimetype": "text/x-python",
   "name": "python",
   "nbconvert_exporter": "python",
   "pygments_lexer": "ipython3",
   "version": "3.10.14"
  }
 },
 "nbformat": 4,
 "nbformat_minor": 4
}