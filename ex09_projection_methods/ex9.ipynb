{
 "cells": [
  {
   "cell_type": "markdown",
   "metadata": {},
   "source": [
    "# Statistical Pattern Recognition - Solution 9: Projection methods\n"
   ]
  },
  {
   "cell_type": "code",
   "execution_count": null,
   "metadata": {
    "id": "VN7ryFMP4r8S"
   },
   "outputs": [],
   "source": [
    "import numpy as np\n",
    "import matplotlib.pyplot as plt\n",
    "from mpl_toolkits.mplot3d import Axes3D\n",
    "from sklearn.model_selection import train_test_split\n",
    "from sklearn.datasets import fetch_openml\n",
    "from sklearn.manifold import TSNE\n",
    "from sklearn.decomposition import PCA\n",
    "\n",
    "plt.rcParams['figure.figsize'] = [8, 6]\n"
   ]
  },
  {
   "cell_type": "markdown",
   "metadata": {
    "id": "kBKFyE_Oi4t_"
   },
   "source": [
    "## $\\star$ Part 1: PCA\n",
    "\n",
    "* Load the points from `pca.npz`.\n",
    "\n",
    "* Project the datapoints to a 1D subspace via PCA. You should try to implement the algorithm on your own, but you are allowed to use the functions `eig` or `eigh` from `numpy.linalg` to compute the eigenvalues and eigenvectors.\n",
    "\n",
    "* Visualize the original points, the linear subspace, and the projected points in the same graph. Double check your PCA implementation against the sklearn implementation of PCA.\n",
    "\n",
    "* Compute the projection error.\n"
   ]
  },
  {
   "cell_type": "code",
   "execution_count": null,
   "metadata": {
    "id": "yWL2FMF46jfF"
   },
   "outputs": [],
   "source": [
    "# Load and visualize the pca.npz data (as in previous exercises):\n",
    "# START TODO ################\n",
    "raise NotImplementedError\n",
    "# END TODO ################\n"
   ]
  },
  {
   "cell_type": "markdown",
   "metadata": {},
   "source": [
    "### Run PCA\n"
   ]
  },
  {
   "cell_type": "code",
   "execution_count": null,
   "metadata": {
    "id": "QJR3Zmt3o0Kh"
   },
   "outputs": [],
   "source": [
    "def run_pca(X, d, return_y=False):\n",
    "    \"\"\"\n",
    "    Runs PCA to project input data to a lower-dimensional subspace and plots the results.\n",
    "\n",
    "    Args:\n",
    "        X: Input data.\n",
    "        d: Dimensionality of the space to which the data should be projected.\n",
    "        return_y: Optional,reconstruct the original data (with an approximation error)\n",
    "    \"\"\"\n",
    "    # Compute the mean and covariance of the input data (using numpy).\n",
    "    # Center the data around 0 by subtracting the mean:\n",
    "    # START TODO ################\n",
    "    raise NotImplementedError\n",
    "    # END TODO ################\n",
    "\n",
    "    # START TODO ################\n",
    "    # Compute the eigenvalues and eigenvectors of the covariance matrix (using numpy):\n",
    "    raise NotImplementedError\n",
    "    # END TODO ################\n",
    "\n",
    "    # START TODO ################\n",
    "    # Sort the eigenvalues and eigenvectors in descending order (using numpy argsort):\n",
    "    raise NotImplementedError\n",
    "    # END TODO ################\n",
    "\n",
    "    # START TODO ################\n",
    "    # Select the d eigenvectors with the largest eigenvalues and use them to\n",
    "    # project the data to the subspace (slide 10, point 2.).\n",
    "    # Store the projected data in a variable called 'alpha':\n",
    "    raise NotImplementedError\n",
    "    # END TODO ################\n",
    "\n",
    "    if return_y == True:\n",
    "        # START TODO ################\n",
    "        #  Reconstruct the data in the original space (slide 10, point 3.):\n",
    "        raise NotImplementedError\n",
    "        # END TODO ################\n",
    "\n",
    "        # START TODO ################\n",
    "        # Compute and print the squared projection error (slide 9):\n",
    "        raise NotImplementedError\n",
    "        # END TODO ################\n",
    "\n",
    "        return alpha , y\n",
    "    else:\n",
    "        return alpha\n"
   ]
  },
  {
   "cell_type": "code",
   "execution_count": null,
   "metadata": {
    "colab": {
     "base_uri": "https://localhost:8080/",
     "height": 547
    },
    "id": "HsH2g6ooKPRZ",
    "outputId": "7957148e-9277-4269-b4e1-2836867c8d5e"
   },
   "outputs": [],
   "source": [
    "# Run PCA and plot the original and reconstructed data:\n",
    "X_transformed, X_reconstucted = run_pca(X, 1, return_y = True)\n",
    "\n",
    "# START TODO ################\n",
    "# Compare with sklearn:\n",
    "raise NotImplementedError\n",
    "# END TODO ################\n",
    "\n",
    "plt.scatter(X[:, 0], X[:, 1], label=\"original\")\n",
    "plt.scatter(X_reconstucted[:, 0], X_reconstucted[:, 1], label=\"projected+reconstructed\")\n",
    "plt.scatter(X_reconstucted_sklearn[:, 0], X_reconstucted_sklearn[:, 1], label=\"projected+reconstructed, sklearn\", marker='x')\n",
    "plt.legend()\n",
    "plt.show()\n"
   ]
  },
  {
   "cell_type": "markdown",
   "metadata": {
    "id": "5SxqFV-Hi8eW"
   },
   "source": [
    "## $\\star$ Part 2: t-SNE\n",
    "\n",
    "* Apply the t-SNE algorithm to the MNIST dataset. You do not need to\n",
    "implement it yourself, there is a standard sklearn function available.\n",
    "\n",
    "* The data can be downloaded from http://yann.lecun.com/exdb/mnist/, however you can also use https://scikit-learn.org/stable/modules/generated/sklearn.datasets.fetch_openml.html to import it directly with the name 'mnist_784'\n",
    "\n",
    "* Try both 2 and 3-dimensional visualization. Use the original images flattened into 1D vectors as high-dimensional features. \n",
    "\n",
    "* Play around with the perplexity parameter and see how it affects the result.\n",
    "\n",
    "* Apply PCA to the same data and compare the visualizations.\n"
   ]
  },
  {
   "cell_type": "code",
   "execution_count": null,
   "metadata": {
    "colab": {
     "base_uri": "https://localhost:8080/"
    },
    "id": "wOa2eodZs3lV",
    "outputId": "c444a573-a1d2-4830-c490-043d7c5c87d8",
    "scrolled": false
   },
   "outputs": [],
   "source": [
    "# Download the MNIST dataset. This may take some time:\n",
    "mnist = fetch_openml('mnist_784', data_home='../data')\n",
    "X = mnist.data / 255.0\n",
    "y = mnist.target\n",
    "print(X.shape)\n"
   ]
  },
  {
   "cell_type": "code",
   "execution_count": null,
   "metadata": {
    "colab": {
     "base_uri": "https://localhost:8080/",
     "height": 492
    },
    "id": "psfmhMCuV4PX",
    "outputId": "711f5361-9333-4fe7-a8c2-847e4aa7710f"
   },
   "outputs": [],
   "source": [
    "# Plot a few examples from mnist\n",
    "X_ = np.asarray(X)\n",
    "for i in range(1, 5):\n",
    "    digit = X_[i]\n",
    "    plt.subplot(330 + 1 + i)\n",
    "    digit_pixels = digit.reshape(28, 28)\n",
    "    plt.imshow(digit_pixels, cmap=plt.get_cmap('gray'))\n",
    "    plt.axis('off')\n",
    "    print(\"target\", y[i])\n",
    "    plt.show()\n"
   ]
  },
  {
   "cell_type": "code",
   "execution_count": null,
   "metadata": {
    "id": "cyRvUyp22bIZ"
   },
   "outputs": [],
   "source": [
    "# Apply T-SNE with a 2d embedding space to the MNIST data and plot the results.\n",
    "# Only apply T-SNE to a smaller subset of the data (which can be obtained for example via\n",
    "# the train_test_split function), as T-SNE is computationally expensive:\n",
    "\n",
    "def plot_2d(X, y):\n",
    "    # START TODO ################\n",
    "    raise NotImplementedError\n",
    "    # END TODO ################\n",
    "\n",
    "X_1, X_2, Y_1, Y_2 = train_test_split(X, y, stratify=y, test_size=0.05, random_state=42)\n",
    "print(X_2.shape, Y_2.shape)\n",
    "\n",
    "# START TODO ################\n",
    "# apply T-SNE and then call plot_2d:\n",
    "raise NotImplementedError\n",
    "# END TODO ################\n"
   ]
  },
  {
   "cell_type": "code",
   "execution_count": null,
   "metadata": {
    "colab": {
     "base_uri": "https://localhost:8080/",
     "height": 1000
    },
    "id": "mfBOfQQ10oDj",
    "outputId": "e4ae118f-a881-4b0d-e5ac-44d5f434d741",
    "scrolled": false
   },
   "outputs": [],
   "source": [
    "# Run T-SNE with varying perplexity values:\n",
    "# START TODO ################\n",
    "raise NotImplementedError\n",
    "# END TODO ################\n"
   ]
  },
  {
   "cell_type": "code",
   "execution_count": null,
   "metadata": {
    "colab": {
     "base_uri": "https://localhost:8080/"
    },
    "id": "Iu_KbhEGB0yS",
    "outputId": "5261fd58-52b2-4fb1-ed9c-d8be784711d8"
   },
   "outputs": [],
   "source": [
    "# Apply T-SNE with a 3d embedding space to the MNIST data and plot the results:\n",
    "\n",
    "def plot_3d(X, y):\n",
    "    # START TODO ################\n",
    "    raise NotImplementedError\n",
    "    # END TODO ################\n",
    "\n",
    "# START TODO ################\n",
    "# apply T-SNE and then call plot_3d:\n",
    "raise NotImplementedError\n",
    "# END TODO ################\n"
   ]
  },
  {
   "cell_type": "code",
   "execution_count": null,
   "metadata": {
    "colab": {
     "base_uri": "https://localhost:8080/",
     "height": 269
    },
    "id": "coe-KC8YrQ0e",
    "outputId": "bb5ef87c-15cc-4714-aa9e-4864eb8fe418",
    "scrolled": false
   },
   "outputs": [],
   "source": [
    "# Apply PCA to the MNIST data.\n",
    "# Note that PCA is less computationally complex, so you can apply it to the full dataset:\n",
    "X_transformed = run_pca(X, 2)\n",
    "plot_2d(X_transformed, y)\n"
   ]
  },
  {
   "cell_type": "markdown",
   "metadata": {},
   "source": [
    "## Hints\n",
    "\n",
    "### Example output for PCA\n",
    "\n",
    "![example output](ex9_example_output_01.png)\n",
    "\n",
    "\n",
    "### Example output for TSNE\n",
    "\n",
    "![example output](ex9_example_output_02.png)"
   ]
  }
 ],
 "metadata": {
  "colab": {
   "collapsed_sections": [],
   "name": "Copy of Exercise9SPR.ipynb",
   "provenance": []
  },
  "kernelspec": {
   "display_name": "Python 3 (ipykernel)",
   "language": "python",
   "name": "python3"
  },
  "language_info": {
   "codemirror_mode": {
    "name": "ipython",
    "version": 3
   },
   "file_extension": ".py",
   "mimetype": "text/x-python",
   "name": "python",
   "nbconvert_exporter": "python",
   "pygments_lexer": "ipython3",
   "version": "3.10.13"
  }
 },
 "nbformat": 4,
 "nbformat_minor": 1
}